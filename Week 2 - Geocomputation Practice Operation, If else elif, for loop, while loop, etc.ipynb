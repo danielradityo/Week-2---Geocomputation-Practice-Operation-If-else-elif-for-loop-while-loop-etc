{
 "cells": [
  {
   "cell_type": "markdown",
   "id": "01daed3d",
   "metadata": {},
   "source": [
    "# Materi asistensi pertemuan 2:\n",
    "1. Casting tipe data\n",
    "2. list\n",
    "3. Operator komperasi\n",
    "4. Operasi logika not, or, and\n",
    "5. If, else, elif, nesting if\n",
    "6. For loop\n",
    "7. While loop\n",
    "8. Break, continue, pass\n",
    "9. def"
   ]
  },
  {
   "cell_type": "markdown",
   "id": "2dd8e402",
   "metadata": {},
   "source": [
    "# 1. Casting tipe data --> mengganti tipe data"
   ]
  },
  {
   "cell_type": "code",
   "execution_count": 1,
   "id": "a4962f14",
   "metadata": {},
   "outputs": [
    {
     "name": "stdout",
     "output_type": "stream",
     "text": [
      "Isi dari a:  3 merupakan tipe data:  <class 'int'>\n"
     ]
    }
   ],
   "source": [
    "a = 3\n",
    "print('Isi dari a: ', a, 'merupakan tipe data: ', type(a))"
   ]
  },
  {
   "cell_type": "code",
   "execution_count": 3,
   "id": "90ac96ce",
   "metadata": {},
   "outputs": [
    {
     "name": "stdout",
     "output_type": "stream",
     "text": [
      "Isi dari b:  3.0 merupakan tipe data:  <class 'float'>\n"
     ]
    }
   ],
   "source": [
    "b = float(a)\n",
    "print('Isi dari b: ', b, 'merupakan tipe data: ', type(b))"
   ]
  },
  {
   "cell_type": "code",
   "execution_count": 4,
   "id": "323b1f6f",
   "metadata": {},
   "outputs": [
    {
     "name": "stdout",
     "output_type": "stream",
     "text": [
      "Isi dari b:  3 merupakan tipe data:  <class 'str'>\n"
     ]
    }
   ],
   "source": [
    "c = str(a)\n",
    "print('Isi dari b: ', c, 'merupakan tipe data: ', type(c))"
   ]
  },
  {
   "cell_type": "code",
   "execution_count": 7,
   "id": "8b18ee0a",
   "metadata": {},
   "outputs": [
    {
     "name": "stdout",
     "output_type": "stream",
     "text": [
      "Isi dari d:  6 merupakan tipe data:  <class 'str'>\n"
     ]
    }
   ],
   "source": [
    "d = '6'\n",
    "print('Isi dari d: ', d, 'merupakan tipe data: ', type(d))"
   ]
  },
  {
   "cell_type": "code",
   "execution_count": 8,
   "id": "5c7d4ddb",
   "metadata": {},
   "outputs": [
    {
     "name": "stdout",
     "output_type": "stream",
     "text": [
      "Isi dari e:  6 merupakan tipe data:  <class 'int'>\n"
     ]
    }
   ],
   "source": [
    "e = int(d)\n",
    "print('Isi dari e: ', e, 'merupakan tipe data: ', type(e))"
   ]
  },
  {
   "cell_type": "code",
   "execution_count": 9,
   "id": "43ff3dcf",
   "metadata": {},
   "outputs": [
    {
     "name": "stdout",
     "output_type": "stream",
     "text": [
      "Silahkan masukan nama anda:Rendi\n",
      "Nama anda adalah:  Rendi\n"
     ]
    }
   ],
   "source": [
    "nama = str(input('Silahkan masukan nama anda:'))\n",
    "print('Nama anda adalah: ', nama)"
   ]
  },
  {
   "cell_type": "code",
   "execution_count": 10,
   "id": "54501dea",
   "metadata": {},
   "outputs": [
    {
     "name": "stdout",
     "output_type": "stream",
     "text": [
      "Silahkan masukan umur anda: 25\n",
      "Umur anda adalah:  25\n"
     ]
    }
   ],
   "source": [
    "umur = int(input('Silahkan masukan umur anda: '))\n",
    "print('Umur anda adalah: ', umur)"
   ]
  },
  {
   "cell_type": "code",
   "execution_count": 11,
   "id": "2b77ac41",
   "metadata": {},
   "outputs": [
    {
     "name": "stdout",
     "output_type": "stream",
     "text": [
      "Isi dari umur:  25 merupakan tipe data:  <class 'int'>\n"
     ]
    }
   ],
   "source": [
    "print('Isi dari umur: ', umur, 'merupakan tipe data: ', type(umur))"
   ]
  },
  {
   "cell_type": "code",
   "execution_count": 12,
   "id": "5b9a6259",
   "metadata": {},
   "outputs": [
    {
     "name": "stdout",
     "output_type": "stream",
     "text": [
      "Silahkan masukan data strike anda: 250\n",
      "Nili strike anda adalah:  250\n"
     ]
    }
   ],
   "source": [
    "strike = int(input('Silahkan masukan data strike anda: '))\n",
    "print('Nili strike anda adalah: ', strike)"
   ]
  },
  {
   "cell_type": "markdown",
   "id": "aa8b69e6",
   "metadata": {},
   "source": [
    "# 2. list"
   ]
  },
  {
   "cell_type": "markdown",
   "id": "8e402b1a",
   "metadata": {},
   "source": [
    "### Pendahuluan"
   ]
  },
  {
   "cell_type": "code",
   "execution_count": 13,
   "id": "1ae09f2c",
   "metadata": {},
   "outputs": [
    {
     "data": {
      "text/plain": [
       "['nasi goreng', 'mie ayam', 'soto madura', 'pecel lele']"
      ]
     },
     "execution_count": 13,
     "metadata": {},
     "output_type": "execute_result"
    }
   ],
   "source": [
    "makanan = ['nasi goreng', 'mie ayam', 'soto madura', 'pecel lele']\n",
    "makanan"
   ]
  },
  {
   "cell_type": "code",
   "execution_count": 15,
   "id": "be3df59d",
   "metadata": {},
   "outputs": [
    {
     "data": {
      "text/plain": [
       "[250, 300, 176, 126, 70, 35]"
      ]
     },
     "execution_count": 15,
     "metadata": {},
     "output_type": "execute_result"
    }
   ],
   "source": [
    "strike_kekar = [250, 300, 176, 126, 70, 35]\n",
    "strike_kekar"
   ]
  },
  {
   "cell_type": "markdown",
   "id": "6c778a1c",
   "metadata": {},
   "source": [
    "Kenapa kita menggunakan list? intinya untuk menyimpan data dalam suatu list (seperti locker)"
   ]
  },
  {
   "cell_type": "markdown",
   "id": "ce3dbd44",
   "metadata": {},
   "source": [
    "### Penggabungan List"
   ]
  },
  {
   "cell_type": "markdown",
   "id": "91d7b7c6",
   "metadata": {},
   "source": [
    "#### Dalam satu list"
   ]
  },
  {
   "cell_type": "code",
   "execution_count": 23,
   "id": "e2a91e47",
   "metadata": {},
   "outputs": [
    {
     "data": {
      "text/plain": [
       "[250, 300, 176, 126, 70, 35]"
      ]
     },
     "execution_count": 23,
     "metadata": {},
     "output_type": "execute_result"
    }
   ],
   "source": [
    "strike_kekar = [250, 300, 176, 126, 70, 35]\n",
    "strike_kekar"
   ]
  },
  {
   "cell_type": "code",
   "execution_count": 16,
   "id": "548eb8f3",
   "metadata": {},
   "outputs": [
    {
     "data": {
      "text/plain": [
       "[300, 35, 78, 241, 332, 174]"
      ]
     },
     "execution_count": 16,
     "metadata": {},
     "output_type": "execute_result"
    }
   ],
   "source": [
    "strike_perlapisan = [300, 35, 78, 241, 332, 174]\n",
    "strike_perlapisan"
   ]
  },
  {
   "cell_type": "code",
   "execution_count": 19,
   "id": "a78893a1",
   "metadata": {},
   "outputs": [
    {
     "data": {
      "text/plain": [
       "[250, 300, 176, 126, 70, 35, 300, 35, 78, 241, 332, 174]"
      ]
     },
     "execution_count": 19,
     "metadata": {},
     "output_type": "execute_result"
    }
   ],
   "source": [
    "strike_diskontinuitas = strike_kekar + strike_perlapisan\n",
    "strike_diskontinuitas"
   ]
  },
  {
   "cell_type": "markdown",
   "id": "fac62038",
   "metadata": {},
   "source": [
    "#### list dalam list"
   ]
  },
  {
   "cell_type": "code",
   "execution_count": 22,
   "id": "56770c94",
   "metadata": {},
   "outputs": [
    {
     "data": {
      "text/plain": [
       "[[250, 300, 176, 126, 70, 35], [300, 35, 78, 241, 332, 174]]"
      ]
     },
     "execution_count": 22,
     "metadata": {},
     "output_type": "execute_result"
    }
   ],
   "source": [
    "contoh_strike_diskontinuitas = [strike_kekar, strike_perlapisan]\n",
    "contoh_strike_diskontinuitas"
   ]
  },
  {
   "cell_type": "markdown",
   "id": "4528cbac",
   "metadata": {},
   "source": [
    "#### Mengakses List"
   ]
  },
  {
   "cell_type": "code",
   "execution_count": 24,
   "id": "de156c87",
   "metadata": {},
   "outputs": [
    {
     "data": {
      "text/plain": [
       "250"
      ]
     },
     "execution_count": 24,
     "metadata": {},
     "output_type": "execute_result"
    }
   ],
   "source": [
    "strike_kekar[0]"
   ]
  },
  {
   "cell_type": "code",
   "execution_count": 29,
   "id": "6661c026",
   "metadata": {},
   "outputs": [
    {
     "data": {
      "text/plain": [
       "70"
      ]
     },
     "execution_count": 29,
     "metadata": {},
     "output_type": "execute_result"
    }
   ],
   "source": [
    "strike_kekar[-2]"
   ]
  },
  {
   "cell_type": "code",
   "execution_count": 30,
   "id": "b10cd04f",
   "metadata": {},
   "outputs": [
    {
     "data": {
      "text/plain": [
       "250"
      ]
     },
     "execution_count": 30,
     "metadata": {},
     "output_type": "execute_result"
    }
   ],
   "source": [
    "strike_kekar[-0]"
   ]
  },
  {
   "cell_type": "code",
   "execution_count": 25,
   "id": "4ad982a9",
   "metadata": {},
   "outputs": [
    {
     "data": {
      "text/plain": [
       "126"
      ]
     },
     "execution_count": 25,
     "metadata": {},
     "output_type": "execute_result"
    }
   ],
   "source": [
    "strike_kekar[3]"
   ]
  },
  {
   "cell_type": "code",
   "execution_count": 26,
   "id": "0c8ca37e",
   "metadata": {},
   "outputs": [
    {
     "data": {
      "text/plain": [
       "241"
      ]
     },
     "execution_count": 26,
     "metadata": {},
     "output_type": "execute_result"
    }
   ],
   "source": [
    "strike_diskontinuitas[9]"
   ]
  },
  {
   "cell_type": "code",
   "execution_count": 28,
   "id": "2e335d99",
   "metadata": {},
   "outputs": [
    {
     "data": {
      "text/plain": [
       "241"
      ]
     },
     "execution_count": 28,
     "metadata": {},
     "output_type": "execute_result"
    }
   ],
   "source": [
    "contoh_strike_diskontinuitas[1][3]"
   ]
  },
  {
   "cell_type": "markdown",
   "id": "bc702b2f",
   "metadata": {},
   "source": [
    "#### Slicing List"
   ]
  },
  {
   "cell_type": "code",
   "execution_count": 32,
   "id": "daa50eb5",
   "metadata": {},
   "outputs": [
    {
     "data": {
      "text/plain": [
       "[250, 300, 176]"
      ]
     },
     "execution_count": 32,
     "metadata": {},
     "output_type": "execute_result"
    }
   ],
   "source": [
    "strike_kekar[0:3]"
   ]
  },
  {
   "cell_type": "code",
   "execution_count": 36,
   "id": "5b467029",
   "metadata": {},
   "outputs": [
    {
     "data": {
      "text/plain": [
       "[250, 176, 70]"
      ]
     },
     "execution_count": 36,
     "metadata": {},
     "output_type": "execute_result"
    }
   ],
   "source": [
    "strike_kekar[0:5:2]"
   ]
  },
  {
   "cell_type": "code",
   "execution_count": 37,
   "id": "8c9ec676",
   "metadata": {},
   "outputs": [
    {
     "data": {
      "text/plain": [
       "[126, 70, 35]"
      ]
     },
     "execution_count": 37,
     "metadata": {},
     "output_type": "execute_result"
    }
   ],
   "source": [
    "strike_kekar[-3:6]"
   ]
  },
  {
   "cell_type": "code",
   "execution_count": 38,
   "id": "0da5c859",
   "metadata": {},
   "outputs": [
    {
     "data": {
      "text/plain": [
       "[241, 332, 174]"
      ]
     },
     "execution_count": 38,
     "metadata": {},
     "output_type": "execute_result"
    }
   ],
   "source": [
    "contoh_strike_diskontinuitas[1][-3:6]"
   ]
  },
  {
   "cell_type": "markdown",
   "id": "eda22037",
   "metadata": {},
   "source": [
    "# 3. Operator komperasi"
   ]
  },
  {
   "cell_type": "markdown",
   "id": "8ede652e",
   "metadata": {},
   "source": [
    "membandingkan variable satu dengan variabel lainnya atau dengan angka tertentu (\">, <, >=, <=, ==, !=\")"
   ]
  },
  {
   "cell_type": "code",
   "execution_count": 39,
   "id": "d7a24b66",
   "metadata": {},
   "outputs": [],
   "source": [
    "# Variabel\n",
    "a = 6\n",
    "b = 2"
   ]
  },
  {
   "cell_type": "markdown",
   "id": "bf456063",
   "metadata": {},
   "source": [
    "#### Lebih besar (>)"
   ]
  },
  {
   "cell_type": "code",
   "execution_count": 41,
   "id": "0ad685e5",
   "metadata": {},
   "outputs": [
    {
     "name": "stdout",
     "output_type": "stream",
     "text": [
      "Apakah nilai dari 6 lebih dari 10? False\n"
     ]
    }
   ],
   "source": [
    "# Lebih besar (>)\n",
    "hasil = a>10\n",
    "print(f'Apakah nilai dari {a} lebih dari 10? {hasil}')"
   ]
  },
  {
   "cell_type": "code",
   "execution_count": 45,
   "id": "2e3f798d",
   "metadata": {},
   "outputs": [
    {
     "name": "stdout",
     "output_type": "stream",
     "text": [
      "Apakah nilai dari 6 lebih dari 10? False\n"
     ]
    }
   ],
   "source": [
    "print('Apakah nilai dari', a ,'lebih dari 10?', hasil)"
   ]
  },
  {
   "cell_type": "code",
   "execution_count": 46,
   "id": "519033a4",
   "metadata": {},
   "outputs": [
    {
     "name": "stdout",
     "output_type": "stream",
     "text": [
      "Apakah nilai dari 6 lebih dari 5? True\n"
     ]
    }
   ],
   "source": [
    "hasil = a>5\n",
    "print(f'Apakah nilai dari {a} lebih dari 5? {hasil}')"
   ]
  },
  {
   "cell_type": "markdown",
   "id": "90ff4aa3",
   "metadata": {},
   "source": [
    "#### Kurang dari (<)"
   ]
  },
  {
   "cell_type": "code",
   "execution_count": 50,
   "id": "2c5d0627",
   "metadata": {},
   "outputs": [
    {
     "name": "stdout",
     "output_type": "stream",
     "text": [
      "Apakah nilai dari 2 kurang dari 5? True\n"
     ]
    }
   ],
   "source": [
    "# Kurang dari (<)\n",
    "hasil = b < 5\n",
    "print(f'Apakah nilai dari {b} kurang dari 5? {hasil}')"
   ]
  },
  {
   "cell_type": "code",
   "execution_count": 48,
   "id": "4c2a5865",
   "metadata": {},
   "outputs": [
    {
     "name": "stdout",
     "output_type": "stream",
     "text": [
      "Apakah nilai dari 2 kurang dari 1? False\n"
     ]
    }
   ],
   "source": [
    "hasil = b < 1\n",
    "print(f'Apakah nilai dari {b} kurang dari 1? {hasil}')"
   ]
  },
  {
   "cell_type": "markdown",
   "id": "fd30e675",
   "metadata": {},
   "source": [
    "#### Sama dengan (==)"
   ]
  },
  {
   "cell_type": "code",
   "execution_count": 52,
   "id": "a57873b7",
   "metadata": {},
   "outputs": [
    {
     "name": "stdout",
     "output_type": "stream",
     "text": [
      "Apakah nilai dari 6 == 2? False\n"
     ]
    }
   ],
   "source": [
    "# Sama dengan (==)\n",
    "hasil = a == b\n",
    "print(f'Apakah nilai dari {a} == {b}? {hasil}')"
   ]
  },
  {
   "cell_type": "code",
   "execution_count": 53,
   "id": "8f1ad8ac",
   "metadata": {},
   "outputs": [
    {
     "name": "stdout",
     "output_type": "stream",
     "text": [
      "Apakah nilai dari 6 == 6? True\n"
     ]
    }
   ],
   "source": [
    "# Sama dengan (==)\n",
    "hasil = a == 6\n",
    "print(f'Apakah nilai dari {a} == 6? {hasil}')"
   ]
  },
  {
   "cell_type": "markdown",
   "id": "8431e403",
   "metadata": {},
   "source": [
    "#### Tidak Sama dengan (!=)"
   ]
  },
  {
   "cell_type": "code",
   "execution_count": 55,
   "id": "b54293ab",
   "metadata": {},
   "outputs": [
    {
     "name": "stdout",
     "output_type": "stream",
     "text": [
      "Apakah nilai dari 6 != 2? True\n"
     ]
    }
   ],
   "source": [
    "# Tidak Sama dengan (!=)\n",
    "hasil = a != b\n",
    "print(f'Apakah nilai dari {a} != {b}? {hasil}')"
   ]
  },
  {
   "cell_type": "code",
   "execution_count": 57,
   "id": "e5964021",
   "metadata": {},
   "outputs": [
    {
     "name": "stdout",
     "output_type": "stream",
     "text": [
      "Apakah nilai dari 6 != 6? False\n"
     ]
    }
   ],
   "source": [
    "# Tidak Sama dengan (!=)\n",
    "hasil = a != 6\n",
    "print(f'Apakah nilai dari {a} != 6? {hasil}')"
   ]
  },
  {
   "cell_type": "markdown",
   "id": "a1e1231d",
   "metadata": {},
   "source": [
    "# 4. Operasi logika not, or, and"
   ]
  },
  {
   "cell_type": "markdown",
   "id": "4cda9c85",
   "metadata": {},
   "source": [
    "#### Operasi Logika Not"
   ]
  },
  {
   "cell_type": "code",
   "execution_count": 62,
   "id": "b730f295",
   "metadata": {},
   "outputs": [
    {
     "name": "stdout",
     "output_type": "stream",
     "text": [
      "data a =  True\n",
      "data b =  False\n"
     ]
    }
   ],
   "source": [
    "# Not --> variabel harus tipe data bool\n",
    "a = True\n",
    "b = not a\n",
    "print('data a = ', a)\n",
    "print('data b = ', b)"
   ]
  },
  {
   "cell_type": "markdown",
   "id": "5e48baf2",
   "metadata": {},
   "source": [
    "#### Operasi Logika OR"
   ]
  },
  {
   "cell_type": "code",
   "execution_count": 68,
   "id": "7fae41af",
   "metadata": {},
   "outputs": [
    {
     "name": "stdout",
     "output_type": "stream",
     "text": [
      "True OR False = True\n"
     ]
    }
   ],
   "source": [
    "a = True\n",
    "b = False\n",
    "c = a or b\n",
    "print(a, 'OR', b, '=', c)"
   ]
  },
  {
   "cell_type": "code",
   "execution_count": 69,
   "id": "28b63714",
   "metadata": {},
   "outputs": [
    {
     "name": "stdout",
     "output_type": "stream",
     "text": [
      "True OR True = True\n"
     ]
    }
   ],
   "source": [
    "a = True\n",
    "b = True\n",
    "c = a or b\n",
    "print(a, 'OR', b, '=', c)"
   ]
  },
  {
   "cell_type": "code",
   "execution_count": 70,
   "id": "c04bfc45",
   "metadata": {},
   "outputs": [
    {
     "name": "stdout",
     "output_type": "stream",
     "text": [
      "False OR True = True\n"
     ]
    }
   ],
   "source": [
    "a = False\n",
    "b = True\n",
    "c = a or b\n",
    "print(a, 'OR', b, '=', c)"
   ]
  },
  {
   "cell_type": "code",
   "execution_count": 71,
   "id": "e6f77dab",
   "metadata": {},
   "outputs": [
    {
     "name": "stdout",
     "output_type": "stream",
     "text": [
      "False OR False = False\n"
     ]
    }
   ],
   "source": [
    "a = False\n",
    "b = False\n",
    "c = a or b\n",
    "print(a, 'OR', b, '=', c)"
   ]
  },
  {
   "cell_type": "markdown",
   "id": "c8d5d5c3",
   "metadata": {},
   "source": [
    "#### Operasi Logika AND"
   ]
  },
  {
   "cell_type": "code",
   "execution_count": 72,
   "id": "e6a6848b",
   "metadata": {},
   "outputs": [
    {
     "name": "stdout",
     "output_type": "stream",
     "text": [
      "True AND False = False\n"
     ]
    }
   ],
   "source": [
    "a = True\n",
    "b = False\n",
    "c = a and b\n",
    "print(a, 'AND', b, '=', c)"
   ]
  },
  {
   "cell_type": "code",
   "execution_count": 73,
   "id": "0a7096b6",
   "metadata": {},
   "outputs": [
    {
     "name": "stdout",
     "output_type": "stream",
     "text": [
      "True AND True = True\n"
     ]
    }
   ],
   "source": [
    "a = True\n",
    "b = True\n",
    "c = a and b\n",
    "print(a, 'AND', b, '=', c)"
   ]
  },
  {
   "cell_type": "code",
   "execution_count": 74,
   "id": "54cfbf01",
   "metadata": {},
   "outputs": [
    {
     "name": "stdout",
     "output_type": "stream",
     "text": [
      "False AND True = False\n"
     ]
    }
   ],
   "source": [
    "a = False\n",
    "b = True\n",
    "c = a and b\n",
    "print(a, 'AND', b, '=', c)"
   ]
  },
  {
   "cell_type": "code",
   "execution_count": 75,
   "id": "0e36e983",
   "metadata": {},
   "outputs": [
    {
     "name": "stdout",
     "output_type": "stream",
     "text": [
      "False AND False = False\n"
     ]
    }
   ],
   "source": [
    "a = False\n",
    "b = False\n",
    "c = a and b\n",
    "print(a, 'AND', b, '=', c)"
   ]
  },
  {
   "cell_type": "markdown",
   "id": "75050d28",
   "metadata": {},
   "source": [
    "# 5. If, else, elif, nesting if"
   ]
  },
  {
   "cell_type": "markdown",
   "id": "75a9566d",
   "metadata": {},
   "source": [
    "#### IF else"
   ]
  },
  {
   "cell_type": "markdown",
   "id": "7b80b49d",
   "metadata": {},
   "source": [
    "    lapar = makan\n",
    "    tidak lapar = tidak makan"
   ]
  },
  {
   "cell_type": "code",
   "execution_count": 80,
   "id": "c88109d0",
   "metadata": {},
   "outputs": [
    {
     "name": "stdout",
     "output_type": "stream",
     "text": [
      "Apakah kamu lapar? (y/n)n\n",
      "Kamu tidak perlu makan sekarang\n"
     ]
    }
   ],
   "source": [
    "perut = str(input('Apakah kamu lapar? (y/n)'))\n",
    "\n",
    "if perut == 'y':\n",
    "    print('Kamu harus makan')\n",
    "else:\n",
    "    print('Kamu tidak perlu makan sekarang')"
   ]
  },
  {
   "cell_type": "markdown",
   "id": "ac1151f5",
   "metadata": {},
   "source": [
    "#### ELIF -- Else If"
   ]
  },
  {
   "cell_type": "markdown",
   "id": "735df9f1",
   "metadata": {},
   "source": [
    "    A = 80 - 100\n",
    "    B = 70 - 79,9\n",
    "    C = 60 - 69,9\n",
    "    D = 50 - 59,9\n",
    "    E = < 49,9"
   ]
  },
  {
   "cell_type": "code",
   "execution_count": 84,
   "id": "0ce60c0a",
   "metadata": {},
   "outputs": [
    {
     "name": "stdout",
     "output_type": "stream",
     "text": [
      "Silahkan masukkan nilai anda:75\n",
      "Nilai yang kamu dapat berupa: B\n"
     ]
    }
   ],
   "source": [
    "nilai = float(input('Silahkan masukkan nilai anda:'))\n",
    "\n",
    "if 80 <= nilai <=  100:\n",
    "    print('Nilai yang kamu dapat berupa: A')\n",
    "elif 70 <= nilai <= 79.9:\n",
    "    print('Nilai yang kamu dapat berupa: B')\n",
    "elif 60 <= nilai <= 69.9:\n",
    "    print('Nilai yang kamu dapat berupa: C')\n",
    "elif 50 <= nilai <= 59.9:\n",
    "    print('Nilai yang kamu dapat berupa: D')\n",
    "else:\n",
    "    print('Nilai yang kamu dapat berupa: E')"
   ]
  },
  {
   "cell_type": "markdown",
   "id": "85276bf3",
   "metadata": {},
   "source": [
    "# 6. For loop - Perulangan"
   ]
  },
  {
   "cell_type": "code",
   "execution_count": 88,
   "id": "3ca20b46",
   "metadata": {},
   "outputs": [
    {
     "data": {
      "text/plain": [
       "[250, 260, 176, 126, 70, 35]"
      ]
     },
     "execution_count": 88,
     "metadata": {},
     "output_type": "execute_result"
    }
   ],
   "source": [
    "strike_kekar = [250, 260, 176, 126, 70, 35]\n",
    "strike_kekar"
   ]
  },
  {
   "cell_type": "code",
   "execution_count": 89,
   "id": "a9460160",
   "metadata": {},
   "outputs": [
    {
     "data": {
      "text/plain": [
       "[210, 35, 78, 241, 182, 174]"
      ]
     },
     "execution_count": 89,
     "metadata": {},
     "output_type": "execute_result"
    }
   ],
   "source": [
    "strike_perlapisan = [210, 35, 78, 241, 182, 174]\n",
    "strike_perlapisan"
   ]
  },
  {
   "cell_type": "code",
   "execution_count": 90,
   "id": "d6c1e516",
   "metadata": {},
   "outputs": [
    {
     "data": {
      "text/plain": [
       "[250, 260, 176, 126, 70, 35, 210, 35, 78, 241, 182, 174]"
      ]
     },
     "execution_count": 90,
     "metadata": {},
     "output_type": "execute_result"
    }
   ],
   "source": [
    "strike_diskontinuitas = strike_kekar + strike_perlapisan\n",
    "strike_diskontinuitas"
   ]
  },
  {
   "cell_type": "code",
   "execution_count": 92,
   "id": "9243ade8",
   "metadata": {},
   "outputs": [
    {
     "name": "stdout",
     "output_type": "stream",
     "text": [
      "250\n",
      "260\n",
      "176\n",
      "126\n",
      "70\n",
      "35\n",
      "210\n",
      "35\n",
      "78\n",
      "241\n",
      "182\n",
      "174\n"
     ]
    }
   ],
   "source": [
    "## For loop\n",
    "for data_strike in strike_diskontinuitas:\n",
    "    print(data_strike)"
   ]
  },
  {
   "cell_type": "markdown",
   "id": "c6ba443b",
   "metadata": {},
   "source": [
    "# 7. While loop"
   ]
  },
  {
   "cell_type": "code",
   "execution_count": 96,
   "id": "a38260e5",
   "metadata": {},
   "outputs": [
    {
     "name": "stdout",
     "output_type": "stream",
     "text": [
      "0\n",
      "1\n",
      "2\n",
      "3\n",
      "4\n"
     ]
    }
   ],
   "source": [
    "a = 0\n",
    "\n",
    "while a < 5:\n",
    "    print(a)\n",
    "    a += 1"
   ]
  },
  {
   "cell_type": "markdown",
   "id": "fe8408dd",
   "metadata": {},
   "source": [
    "# 8. Break, continue, pass"
   ]
  },
  {
   "cell_type": "code",
   "execution_count": 104,
   "id": "c714132c",
   "metadata": {},
   "outputs": [
    {
     "name": "stdout",
     "output_type": "stream",
     "text": [
      "Nilai sekarang sampai 0\n",
      "Nilai sekarang sampai 1\n",
      "Nilai sekarang sampai 2\n",
      "Nilai sekarang sampai 3\n",
      "Nilai sekarang sampai 4\n",
      "Sudah sama dengan 5\n"
     ]
    }
   ],
   "source": [
    "# Standart\n",
    "a = 0\n",
    "\n",
    "while a < 5:\n",
    "    print('Nilai sekarang sampai', a)\n",
    "    a += 1\n",
    "print('Sudah sama dengan 5')"
   ]
  },
  {
   "cell_type": "code",
   "execution_count": 105,
   "id": "50c33ca4",
   "metadata": {},
   "outputs": [
    {
     "name": "stdout",
     "output_type": "stream",
     "text": [
      "Nilai sekarang sampai 0\n",
      "Sudah sama dengan 5\n"
     ]
    }
   ],
   "source": [
    "# Break\n",
    "a = 0\n",
    "\n",
    "while a < 5:\n",
    "    print('Nilai sekarang sampai', a)\n",
    "    a += 1\n",
    "    break\n",
    "print('Sudah sama dengan 5')"
   ]
  },
  {
   "cell_type": "code",
   "execution_count": 106,
   "id": "05af0764",
   "metadata": {},
   "outputs": [
    {
     "name": "stdout",
     "output_type": "stream",
     "text": [
      "Nilai sekarang sampai 0\n",
      "Nilai sekarang sampai 1\n",
      "Nilai sekarang sampai 2\n",
      "Nilai sekarang sampai 3\n",
      "Nilai sekarang sampai 4\n",
      "Sudah sama dengan 5\n"
     ]
    }
   ],
   "source": [
    "# Continue\n",
    "a = 0\n",
    "\n",
    "while a < 5:\n",
    "    print('Nilai sekarang sampai', a)\n",
    "    a += 1\n",
    "    continue\n",
    "print('Sudah sama dengan 5')"
   ]
  },
  {
   "cell_type": "code",
   "execution_count": 107,
   "id": "feb9cb08",
   "metadata": {},
   "outputs": [
    {
     "name": "stdout",
     "output_type": "stream",
     "text": [
      "Nilai sekarang sampai 0\n",
      "Nilai sekarang sampai 1\n",
      "Nilai sekarang sampai 2\n",
      "Nilai sekarang sampai 3\n",
      "Nilai sekarang sampai 4\n",
      "Sudah sama dengan 5\n"
     ]
    }
   ],
   "source": [
    "# Pass\n",
    "a = 0\n",
    "\n",
    "while a < 5:\n",
    "    print('Nilai sekarang sampai', a)\n",
    "    a += 1\n",
    "    pass\n",
    "print('Sudah sama dengan 5')"
   ]
  },
  {
   "cell_type": "code",
   "execution_count": 111,
   "id": "f20ccd1f",
   "metadata": {},
   "outputs": [
    {
     "name": "stdout",
     "output_type": "stream",
     "text": [
      "Nilai sekarang sampai 0\n",
      "Nilai sekarang sampai 1\n",
      "Nilai sekarang sampai 2\n",
      "Sudah sama dengan 5\n"
     ]
    }
   ],
   "source": [
    "# Pass kondisi di angkat 3 berhenti\n",
    "a = 0\n",
    "\n",
    "while a < 5:\n",
    "    print('Nilai sekarang sampai', a)\n",
    "    a += 1\n",
    "    if a == 3:\n",
    "        break\n",
    "print('Sudah sama dengan 5')"
   ]
  },
  {
   "cell_type": "markdown",
   "id": "b0efd011",
   "metadata": {},
   "source": [
    "# 9. def --> Fungsi"
   ]
  },
  {
   "cell_type": "markdown",
   "id": "54aaab46",
   "metadata": {},
   "source": [
    "Membuat fungsi agar fungsi tersebut kita ga perlu mengetik ulang"
   ]
  },
  {
   "cell_type": "code",
   "execution_count": 3,
   "id": "963bd8ef",
   "metadata": {},
   "outputs": [
    {
     "name": "stdout",
     "output_type": "stream",
     "text": [
      "Silahkan masukkan nama batuannya (batupasir/andesit)\n",
      "Andesit merupakan batuan beku\n"
     ]
    }
   ],
   "source": [
    "def batupasir():\n",
    "    print('Batupasir merupakan batuan sedimen')\n",
    "    \n",
    "def andesit():\n",
    "    print('Andesit merupakan batuan beku')\n",
    "    \n",
    "jenis_batu = str(input('Silahkan masukkan nama batuannya (batupasir/andesit)'))\n",
    "\n",
    "if jenis_batu == 'batupasir':\n",
    "    batupasir()\n",
    "else:\n",
    "    andesit()"
   ]
  },
  {
   "cell_type": "code",
   "execution_count": 4,
   "id": "10958c04",
   "metadata": {},
   "outputs": [
    {
     "name": "stdout",
     "output_type": "stream",
     "text": [
      "Batupasir merupakan batuan sedimen\n"
     ]
    }
   ],
   "source": [
    "batupasir()"
   ]
  },
  {
   "cell_type": "code",
   "execution_count": 5,
   "id": "61e69586",
   "metadata": {},
   "outputs": [
    {
     "name": "stdout",
     "output_type": "stream",
     "text": [
      "Andesit merupakan batuan beku\n"
     ]
    }
   ],
   "source": [
    "andesit()"
   ]
  },
  {
   "cell_type": "markdown",
   "id": "032cb0b8",
   "metadata": {},
   "source": [
    "#### Fungsi dalam fungsi"
   ]
  },
  {
   "cell_type": "code",
   "execution_count": 11,
   "id": "9d3547a8",
   "metadata": {},
   "outputs": [
    {
     "name": "stdout",
     "output_type": "stream",
     "text": [
      "Berapa buah sampel yang dibawa? 7\n",
      "Berat setiap sampel batupasir tersebut sebesar (kg): 1.5\n",
      "Batupasir merupakan batuan sedimen\n",
      "Rifqi membawa batupasir sebanyak:  7\n",
      "Rifqi membawa batupasir dengan berat total:  10.5\n"
     ]
    }
   ],
   "source": [
    "total_bawa = int(input('Berapa buah sampel yang dibawa? '))\n",
    "kg = float(input('Berat setiap sampel batupasir tersebut sebesar (kg): '))\n",
    "def berat_batupasir(kg):\n",
    "    batupasir()\n",
    "    print('Rifqi membawa batupasir sebanyak: ', total_bawa)\n",
    "    berat_total = kg * total_bawa \n",
    "    print('Rifqi membawa batupasir dengan berat total: ', berat_total)\n",
    "\n",
    "berat_batupasir(kg)"
   ]
  },
  {
   "cell_type": "code",
   "execution_count": null,
   "id": "70fea876",
   "metadata": {},
   "outputs": [],
   "source": []
  }
 ],
 "metadata": {
  "kernelspec": {
   "display_name": "Python 3",
   "language": "python",
   "name": "python3"
  },
  "language_info": {
   "codemirror_mode": {
    "name": "ipython",
    "version": 3
   },
   "file_extension": ".py",
   "mimetype": "text/x-python",
   "name": "python",
   "nbconvert_exporter": "python",
   "pygments_lexer": "ipython3",
   "version": "3.8.8"
  }
 },
 "nbformat": 4,
 "nbformat_minor": 5
}
